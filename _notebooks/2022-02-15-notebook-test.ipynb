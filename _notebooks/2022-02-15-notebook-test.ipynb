{
 "cells": [
  {
   "cell_type": "markdown",
   "id": "47674ed4-bd04-4528-ba4d-f28741260440",
   "metadata": {
    "tags": []
   },
   "source": [
    "# \"Title\"\n",
    "> \"Awesome summary\"\n",
    "\n",
    "- toc: false\n",
    "- branch: master\n",
    "- badges: true\n",
    "- comments: true\n",
    "- categories: [fastpages, jupyter]\n",
    "- image: images/some_folder/your_image.png\n",
    "- hide: false\n",
    "- search_exclude: true\n",
    "- metadata_key1: metadata_value1\n",
    "- metadata_key2: metadata_value2\n"
   ]
  },
  {
   "cell_type": "markdown",
   "id": "f3350896-64ea-4bec-94ad-38839c665613",
   "metadata": {},
   "source": [
    "$$\n",
    "\\begin{equation}\n",
    "\\mathbf{r} \\equiv \\begin{bmatrix}\n",
    "y \\\\\n",
    "\\theta\n",
    "\\end{bmatrix}\n",
    "\\label{eq:vector_ray} \n",
    "\\end{equation}\n",
    "$$\n",
    "$\\eqref{eq:vector_ray}$ is\n"
   ]
  },
  {
   "cell_type": "markdown",
   "id": "e999c5f6-57e7-4459-bd66-7a40b02816b9",
   "metadata": {},
   "source": [
    "$\\eqref{eq:vector_ray}$ is"
   ]
  },
  {
   "cell_type": "code",
   "execution_count": null,
   "id": "9579bc80-58e1-4daf-9e1b-5a10aac10e46",
   "metadata": {
    "tags": []
   },
   "outputs": [],
   "source": []
  },
  {
   "cell_type": "code",
   "execution_count": null,
   "id": "6701b6c2-2742-4a85-9a5a-fdcdfd87fa96",
   "metadata": {},
   "outputs": [],
   "source": []
  },
  {
   "cell_type": "code",
   "execution_count": null,
   "id": "6035df44-6fb4-4367-8ea2-2dff6fc5fd75",
   "metadata": {},
   "outputs": [],
   "source": []
  }
 ],
 "metadata": {
  "kernelspec": {
   "display_name": "Python 3 (ipykernel)",
   "language": "python",
   "name": "python3"
  },
  "language_info": {
   "codemirror_mode": {
    "name": "ipython",
    "version": 3
   },
   "file_extension": ".py",
   "mimetype": "text/x-python",
   "name": "python",
   "nbconvert_exporter": "python",
   "pygments_lexer": "ipython3",
   "version": "3.10.2"
  }
 },
 "nbformat": 4,
 "nbformat_minor": 5
}
